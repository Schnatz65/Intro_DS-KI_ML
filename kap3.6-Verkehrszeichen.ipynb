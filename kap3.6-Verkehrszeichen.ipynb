{
 "cells": [
  {
   "cell_type": "markdown",
   "metadata": {
    "colab_type": "text",
    "id": "LzCzd16RpoPh"
   },
   "source": [
    "# Kapitel 3.6: Neuronale Netze - Verkehrszeichenerkennung"
   ]
  },
  {
   "cell_type": "code",
   "execution_count": 1,
   "metadata": {},
   "outputs": [],
   "source": [
    "import tensorflow as tf\n",
    "tf.config.list_physical_devices('GPU')\n",
    "\n",
    "if tf.test.gpu_device_name():\n",
    "      print(f'Default GPU Device:{tf.test.gpu_device_name()}') "
   ]
  },
  {
   "cell_type": "code",
   "execution_count": 2,
   "metadata": {
    "colab": {},
    "colab_type": "code",
    "id": "pjxdBjpNpoPi"
   },
   "outputs": [],
   "source": [
    "import warnings\n",
    "warnings.filterwarnings('ignore')"
   ]
  },
  {
   "cell_type": "code",
   "execution_count": 3,
   "metadata": {
    "colab": {
     "base_uri": "https://localhost:8080/",
     "height": 34
    },
    "colab_type": "code",
    "id": "9xOCX6mopoPm",
    "outputId": "3418c4d9-2ab2-4484-9427-a2c1875e1f11"
   },
   "outputs": [
    {
     "name": "stderr",
     "output_type": "stream",
     "text": [
      "\n",
      "Bad key text.latex.unicode in file D:\\anaconda3\\envs\\Intro_DSKI_ML_GPU\\lib\\site-packages\\matplotlib\\mpl-data\\stylelib\\_classic_test.mplstyle, line 112 ('text.latex.unicode : False # use \"ucs\" and \"inputenc\" LaTeX packages for handling')\n",
      "You probably need to get an updated matplotlibrc file from\n",
      "https://github.com/matplotlib/matplotlib/blob/v3.5.3/matplotlibrc.template\n",
      "or from the matplotlib source distribution\n",
      "\n",
      "Bad key text.latex.preview in file D:\\anaconda3\\envs\\Intro_DSKI_ML_GPU\\lib\\site-packages\\matplotlib\\mpl-data\\stylelib\\_classic_test.mplstyle, line 125 ('text.latex.preview : False')\n",
      "You probably need to get an updated matplotlibrc file from\n",
      "https://github.com/matplotlib/matplotlib/blob/v3.5.3/matplotlibrc.template\n",
      "or from the matplotlib source distribution\n",
      "\n",
      "Bad key mathtext.fallback_to_cm in file D:\\anaconda3\\envs\\Intro_DSKI_ML_GPU\\lib\\site-packages\\matplotlib\\mpl-data\\stylelib\\_classic_test.mplstyle, line 157 ('mathtext.fallback_to_cm : True  # When True, use symbols from the Computer Modern')\n",
      "You probably need to get an updated matplotlibrc file from\n",
      "https://github.com/matplotlib/matplotlib/blob/v3.5.3/matplotlibrc.template\n",
      "or from the matplotlib source distribution\n",
      "\n",
      "Bad key savefig.jpeg_quality in file D:\\anaconda3\\envs\\Intro_DSKI_ML_GPU\\lib\\site-packages\\matplotlib\\mpl-data\\stylelib\\_classic_test.mplstyle, line 420 ('savefig.jpeg_quality: 95       # when a jpeg is saved, the default quality parameter.')\n",
      "You probably need to get an updated matplotlibrc file from\n",
      "https://github.com/matplotlib/matplotlib/blob/v3.5.3/matplotlibrc.template\n",
      "or from the matplotlib source distribution\n",
      "\n",
      "Bad key savefig.frameon in file D:\\anaconda3\\envs\\Intro_DSKI_ML_GPU\\lib\\site-packages\\matplotlib\\mpl-data\\stylelib\\_classic_test.mplstyle, line 423 ('savefig.frameon : True')\n",
      "You probably need to get an updated matplotlibrc file from\n",
      "https://github.com/matplotlib/matplotlib/blob/v3.5.3/matplotlibrc.template\n",
      "or from the matplotlib source distribution\n",
      "\n",
      "Bad key pgf.debug in file D:\\anaconda3\\envs\\Intro_DSKI_ML_GPU\\lib\\site-packages\\matplotlib\\mpl-data\\stylelib\\_classic_test.mplstyle, line 444 ('pgf.debug           : False')\n",
      "You probably need to get an updated matplotlibrc file from\n",
      "https://github.com/matplotlib/matplotlib/blob/v3.5.3/matplotlibrc.template\n",
      "or from the matplotlib source distribution\n",
      "\n",
      "Bad key verbose.level in file D:\\anaconda3\\envs\\Intro_DSKI_ML_GPU\\lib\\site-packages\\matplotlib\\mpl-data\\stylelib\\_classic_test.mplstyle, line 475 ('verbose.level  : silent      # one of silent, helpful, debug, debug-annoying')\n",
      "You probably need to get an updated matplotlibrc file from\n",
      "https://github.com/matplotlib/matplotlib/blob/v3.5.3/matplotlibrc.template\n",
      "or from the matplotlib source distribution\n",
      "\n",
      "Bad key verbose.fileo in file D:\\anaconda3\\envs\\Intro_DSKI_ML_GPU\\lib\\site-packages\\matplotlib\\mpl-data\\stylelib\\_classic_test.mplstyle, line 476 ('verbose.fileo  : sys.stdout  # a log filename, sys.stdout or sys.stderr')\n",
      "You probably need to get an updated matplotlibrc file from\n",
      "https://github.com/matplotlib/matplotlib/blob/v3.5.3/matplotlibrc.template\n",
      "or from the matplotlib source distribution\n",
      "\n",
      "Bad key keymap.all_axes in file D:\\anaconda3\\envs\\Intro_DSKI_ML_GPU\\lib\\site-packages\\matplotlib\\mpl-data\\stylelib\\_classic_test.mplstyle, line 493 ('keymap.all_axes : a                 # enable all axes')\n",
      "You probably need to get an updated matplotlibrc file from\n",
      "https://github.com/matplotlib/matplotlib/blob/v3.5.3/matplotlibrc.template\n",
      "or from the matplotlib source distribution\n",
      "\n",
      "Bad key animation.avconv_path in file D:\\anaconda3\\envs\\Intro_DSKI_ML_GPU\\lib\\site-packages\\matplotlib\\mpl-data\\stylelib\\_classic_test.mplstyle, line 504 ('animation.avconv_path: avconv     # Path to avconv binary. Without full path')\n",
      "You probably need to get an updated matplotlibrc file from\n",
      "https://github.com/matplotlib/matplotlib/blob/v3.5.3/matplotlibrc.template\n",
      "or from the matplotlib source distribution\n",
      "\n",
      "Bad key animation.avconv_args in file D:\\anaconda3\\envs\\Intro_DSKI_ML_GPU\\lib\\site-packages\\matplotlib\\mpl-data\\stylelib\\_classic_test.mplstyle, line 506 ('animation.avconv_args:            # Additional arguments to pass to avconv')\n",
      "You probably need to get an updated matplotlibrc file from\n",
      "https://github.com/matplotlib/matplotlib/blob/v3.5.3/matplotlibrc.template\n",
      "or from the matplotlib source distribution\n"
     ]
    },
    {
     "name": "stdout",
     "output_type": "stream",
     "text": [
      "Populating the interactive namespace from numpy and matplotlib\n"
     ]
    }
   ],
   "source": [
    "%matplotlib inline\n",
    "%pylab inline"
   ]
  },
  {
   "cell_type": "code",
   "execution_count": 4,
   "metadata": {
    "colab": {},
    "colab_type": "code",
    "id": "hihiDGcLpoPp"
   },
   "outputs": [],
   "source": [
    "import matplotlib.pylab as plt\n",
    "import numpy as np"
   ]
  },
  {
   "cell_type": "code",
   "execution_count": 5,
   "metadata": {
    "colab": {},
    "colab_type": "code",
    "id": "CBk_vCWwpoPu"
   },
   "outputs": [],
   "source": [
    "colors = 'bwr'#['b','y','r']\n",
    "CMAP = colors#plt.cm.rainbow"
   ]
  },
  {
   "cell_type": "code",
   "execution_count": 6,
   "metadata": {
    "colab": {
     "base_uri": "https://localhost:8080/",
     "height": 34
    },
    "colab_type": "code",
    "id": "4iE8z4UPpoPy",
    "outputId": "b9cdd306-478b-439a-ce86-cffaf6bfddcd"
   },
   "outputs": [
    {
     "name": "stdout",
     "output_type": "stream",
     "text": [
      "1.0.2\n"
     ]
    }
   ],
   "source": [
    "import sklearn\n",
    "print(sklearn.__version__)"
   ]
  },
  {
   "cell_type": "code",
   "execution_count": 7,
   "metadata": {
    "colab": {
     "base_uri": "https://localhost:8080/",
     "height": 34
    },
    "colab_type": "code",
    "id": "UDMwrHxipoP1",
    "outputId": "9beab8a5-5fb7-40ac-de1f-91b64f7be950"
   },
   "outputs": [
    {
     "name": "stdout",
     "output_type": "stream",
     "text": [
      "2.3.0\n"
     ]
    }
   ],
   "source": [
    "import tensorflow as tf\n",
    "print(tf.__version__)"
   ]
  },
  {
   "cell_type": "code",
   "execution_count": 8,
   "metadata": {
    "colab": {
     "base_uri": "https://localhost:8080/",
     "height": 34
    },
    "colab_type": "code",
    "id": "n1402Tv0poP3",
    "outputId": "95926bea-8b20-41ab-ad2b-d96872d88df0"
   },
   "outputs": [
    {
     "name": "stdout",
     "output_type": "stream",
     "text": [
      "2.4.3\n"
     ]
    }
   ],
   "source": [
    "import keras\n",
    "print(keras.__version__)"
   ]
  },
  {
   "cell_type": "code",
   "execution_count": 9,
   "metadata": {
    "colab": {
     "base_uri": "https://localhost:8080/",
     "height": 34
    },
    "colab_type": "code",
    "id": "RJ1jquySpoP6",
    "outputId": "7b69e05f-f6af-44c3-8443-e4365d2c1e6e"
   },
   "outputs": [
    {
     "name": "stdout",
     "output_type": "stream",
     "text": [
      "1.3.5\n"
     ]
    }
   ],
   "source": [
    "import pandas as pd\n",
    "print(pd.__version__)"
   ]
  },
  {
   "cell_type": "markdown",
   "metadata": {
    "colab_type": "text",
    "id": "Y1gku3A3poP9"
   },
   "source": [
    "## Laden und Vorbereiten der Bild-Daten"
   ]
  },
  {
   "cell_type": "code",
   "execution_count": 10,
   "metadata": {
    "colab": {
     "base_uri": "https://localhost:8080/",
     "height": 68
    },
    "colab_type": "code",
    "id": "_5uS-zXVpoP-",
    "outputId": "ceedd415-166e-4993-f681-14ffa0461753"
   },
   "outputs": [
    {
     "name": "stderr",
     "output_type": "stream",
     "text": [
      "  % Total    % Received % Xferd  Average Speed   Time    Time     Time  Current\n",
      "                                 Dload  Upload   Total   Spent    Left  Speed\n",
      "\n",
      "  0     0    0     0    0     0      0      0 --:--:-- --:--:-- --:--:--     0\n",
      "100 1810k  100 1810k    0     0  4366k      0 --:--:-- --:--:-- --:--:-- 4382k\n"
     ]
    }
   ],
   "source": [
    "!curl -O https://raw.githubusercontent.com/DJCordhose/speed-limit-signs/master/data/speed-limit-signs.zip\n",
    "from zipfile import ZipFile\n",
    "zip = ZipFile(r'speed-limit-signs.zip')\n",
    "zip.extractall('.')"
   ]
  },
  {
   "cell_type": "code",
   "execution_count": 11,
   "metadata": {
    "colab": {
     "base_uri": "https://localhost:8080/",
     "height": 153
    },
    "colab_type": "code",
    "id": "P6fwa6rzpoQA",
    "outputId": "57906e58-190c-4fd1-a960-a5c4927162ee"
   },
   "outputs": [
    {
     "name": "stdout",
     "output_type": "stream",
     "text": [
      " Datenträger in Laufwerk C: ist Windows\n",
      " Volumeseriennummer: 1CA1-9770\n",
      "\n",
      " Verzeichnis von C:\\Users\\ich\\Python-Programme\\Intro_DS+KI_ML\\speed-limit-signs\n",
      "\n",
      "18.12.2023  13:15    <DIR>          .\n",
      "04.01.2024  20:51    <DIR>          ..\n",
      "04.01.2024  21:47             6.148 .DS_Store\n",
      "15.12.2023  16:58    <DIR>          0\n",
      "15.12.2023  16:58    <DIR>          1\n",
      "15.12.2023  16:58    <DIR>          2\n",
      "15.12.2023  16:58    <DIR>          3\n",
      "15.12.2023  16:58    <DIR>          4\n",
      "15.12.2023  16:58    <DIR>          5\n",
      "04.01.2024  21:47               380 README.md\n",
      "               2 Datei(en),          6.528 Bytes\n",
      "               8 Verzeichnis(se), 838.139.940.864 Bytes frei\n"
     ]
    }
   ],
   "source": [
    "!dir speed-limit-signs\n",
    "#!ls -l speed-limit-signs"
   ]
  },
  {
   "cell_type": "code",
   "execution_count": 12,
   "metadata": {
    "colab": {
     "base_uri": "https://localhost:8080/",
     "height": 306
    },
    "colab_type": "code",
    "id": "wm9Q5NR3poQD",
    "outputId": "eef4263c-e032-4195-dfa9-3ab70c104f99"
   },
   "outputs": [
    {
     "name": "stdout",
     "output_type": "stream",
     "text": [
      "Data extracted from http://benchmark.ini.rub.de/?section=gtsdb&subsection=dataset\n",
      "\n",
      "From http://benchmark.ini.rub.de/Dataset_GTSDB/FullIJCNN2013.zip just the samples for the speed limit signs \n",
      "\n",
      "## Format\n",
      "\n",
      "https://en.wikipedia.org/wiki/Netpbm_format\n",
      "\n",
      "Can be previewed on a Mac and be processed by http://scikit-image.org/\n",
      "\n",
      "## Labels\n",
      "- 0: 30\n",
      "- 1: 50\n",
      "- 2: 70\n",
      "- 3: 80\n",
      "- 4: 100\n",
      "- 5: 120\n"
     ]
    }
   ],
   "source": [
    "!type speed-limit-signs\\README.md\n",
    "#!cat speed-limit-signs/README.md"
   ]
  },
  {
   "cell_type": "markdown",
   "metadata": {
    "colab_type": "text",
    "id": "9D-SaV3apoQF"
   },
   "source": [
    "### Big Kudos to [Waleed Abdulla](https://medium.com/@waleedka) for providing the initial idea and many of the functions used to prepare and display the images: https://medium.com/@waleedka/traffic-sign-recognition-with-tensorflow-629dffc391a6#.i728o84ib  "
   ]
  },
  {
   "cell_type": "code",
   "execution_count": 13,
   "metadata": {
    "colab": {},
    "colab_type": "code",
    "id": "dEyC7dgJsohW"
   },
   "outputs": [],
   "source": [
    "import os\n",
    "from skimage import data, io, filters\n",
    "\n",
    "ROOT_PATH = \"./\"\n",
    "data_dir = os.path.join(ROOT_PATH, \"speed-limit-signs\")\n",
    "type = \".ppm\"\n",
    "\n",
    "# Get all subdirectories of data_dir. Each represents a label.\n",
    "directories = [d for d in os.listdir(data_dir) \n",
    "                if os.path.isdir(os.path.join(data_dir, d))]\n",
    "# Loop through the label directories and collect the data in\n",
    "# two lists, labels and images.\n",
    "labels = []\n",
    "images = []\n",
    "for d in directories:\n",
    "    label_dir = os.path.join(data_dir, d)\n",
    "    file_names = [os.path.join(label_dir, f) for f in os.listdir(label_dir) if f.endswith(type)]\n",
    "    # For each label, load it's images and add them to the images list.\n",
    "    # And add the label number (i.e. directory name) to the labels list.\n",
    "    for f in file_names:\n",
    "        images.append(io.imread(f))\n",
    "        labels.append(int(d))\n",
    "\n",
    "images, labels = np.array(images), np.array(labels)"
   ]
  },
  {
   "cell_type": "code",
   "execution_count": 14,
   "metadata": {
    "colab": {
     "base_uri": "https://localhost:8080/",
     "height": 249
    },
    "colab_type": "code",
    "id": "A6mqGPAEpoQJ",
    "outputId": "08f04785-f44e-496c-fd3a-e1f0244c1268"
   },
   "outputs": [
    {
     "data": {
      "image/png": "[encoded data removed]",
      "text/plain": [
       "<Figure size 3000x1500 with 6 Axes>"
      ]
     },
     "metadata": {},
     "output_type": "display_data"
    }
   ],
   "source": [
    "import matplotlib\n",
    "import matplotlib.pyplot as plt\n",
    "\n",
    "label_names = ['30', '50', '70', '80', '100', '120']\n",
    "\n",
    "plt.figure(figsize=(30, 15))\n",
    "\n",
    "unique_values, counts = np.unique(labels, return_counts=True)\n",
    "classes = len(unique_values)\n",
    "\n",
    "i = 1\n",
    "for label in unique_values:\n",
    "    # Pick the first image for each label.\n",
    "    image = images[np.where(labels == label)[0][0]]\n",
    "    plt.subplot(1, 8, i)\n",
    "    plt.title(\"{0} (#{1})\".format(label_names[label], counts[label]))\n",
    "    i += 1\n",
    "    plt.imshow(image)"
   ]
  },
  {
   "cell_type": "code",
   "execution_count": 15,
   "metadata": {
    "colab": {},
    "colab_type": "code",
    "id": "BFGPTn_atT-6"
   },
   "outputs": [],
   "source": [
    "import skimage.transform\n",
    "\n",
    "images_64 = np.array([skimage.transform.resize(image, (64, 64)) for image in images])"
   ]
  },
  {
   "cell_type": "markdown",
   "metadata": {
    "colab_type": "text",
    "id": "H9_TAlqUpoQO"
   },
   "source": [
    "## Modell-Architektur"
   ]
  },
  {
   "cell_type": "code",
   "execution_count": 16,
   "metadata": {
    "colab": {},
    "colab_type": "code",
    "id": "ylVn6kfspoQP"
   },
   "outputs": [],
   "source": [
    "y = np.array(labels)\n",
    "X = np.array(images_64)\n",
    "from keras.utils.np_utils import to_categorical\n",
    "\n",
    "num_categories = 6\n",
    "\n",
    "y = to_categorical(y, num_categories)"
   ]
  },
  {
   "cell_type": "code",
   "execution_count": 17,
   "metadata": {
    "colab": {},
    "colab_type": "code",
    "id": "nEQCr3YgpoQR"
   },
   "outputs": [],
   "source": [
    "from keras.models import Model\n",
    "from keras.layers import Dense, Dropout, Flatten, Input\n",
    "from keras.layers import Convolution2D, MaxPooling2D\n",
    "\n",
    "# input tensor for a 3-channel 64x64 image\n",
    "inputs = Input(shape=(64, 64, 3))\n",
    "\n",
    "# one block of convolutional layers\n",
    "x = Convolution2D(64, 3, activation='relu', padding='same')(inputs)\n",
    "x = Convolution2D(64, 3, activation='relu', padding='same')(x)\n",
    "x = Convolution2D(64, 3, activation='relu', padding='same')(x)\n",
    "x = MaxPooling2D(pool_size=(2, 2))(x)\n",
    "\n",
    "# one more block\n",
    "x = Convolution2D(128, 3, activation='relu', padding='same')(x)\n",
    "x = Convolution2D(128, 3, activation='relu', padding='same')(x)\n",
    "x = MaxPooling2D(pool_size=(2, 2))(x)\n",
    "\n",
    "# one more block\n",
    "x = Convolution2D(256, 3, activation='relu', padding='same')(x)\n",
    "x = MaxPooling2D(pool_size=(2, 2))(x)\n",
    "\n",
    "x = Flatten()(x)\n",
    "x = Dense(256, activation='relu')(x)\n",
    "\n",
    "# softmax activation, 6 categories\n",
    "predictions = Dense(6, activation='softmax')(x)"
   ]
  },
  {
   "cell_type": "code",
   "execution_count": 18,
   "metadata": {
    "colab": {
     "base_uri": "https://localhost:8080/",
     "height": 595
    },
    "colab_type": "code",
    "id": "6EJNZgpopoQT",
    "outputId": "da4ab145-bffb-4297-f039-040d64b9a257"
   },
   "outputs": [
    {
     "name": "stdout",
     "output_type": "stream",
     "text": [
      "Model: \"functional_1\"\n",
      "_________________________________________________________________\n",
      "Layer (type)                 Output Shape              Param #   \n",
      "=================================================================\n",
      "input_1 (InputLayer)         [(None, 64, 64, 3)]       0         \n",
      "_________________________________________________________________\n",
      "conv2d (Conv2D)              (None, 64, 64, 64)        1792      \n",
      "_________________________________________________________________\n",
      "conv2d_1 (Conv2D)            (None, 64, 64, 64)        36928     \n",
      "_________________________________________________________________\n",
      "conv2d_2 (Conv2D)            (None, 64, 64, 64)        36928     \n",
      "_________________________________________________________________\n",
      "max_pooling2d (MaxPooling2D) (None, 32, 32, 64)        0         \n",
      "_________________________________________________________________\n",
      "conv2d_3 (Conv2D)            (None, 32, 32, 128)       73856     \n",
      "_________________________________________________________________\n",
      "conv2d_4 (Conv2D)            (None, 32, 32, 128)       147584    \n",
      "_________________________________________________________________\n",
      "max_pooling2d_1 (MaxPooling2 (None, 16, 16, 128)       0         \n",
      "_________________________________________________________________\n",
      "conv2d_5 (Conv2D)            (None, 16, 16, 256)       295168    \n",
      "_________________________________________________________________\n",
      "max_pooling2d_2 (MaxPooling2 (None, 8, 8, 256)         0         \n",
      "_________________________________________________________________\n",
      "flatten (Flatten)            (None, 16384)             0         \n",
      "_________________________________________________________________\n",
      "dense (Dense)                (None, 256)               4194560   \n",
      "_________________________________________________________________\n",
      "dense_1 (Dense)              (None, 6)                 1542      \n",
      "=================================================================\n",
      "Total params: 4,788,358\n",
      "Trainable params: 4,788,358\n",
      "Non-trainable params: 0\n",
      "_________________________________________________________________\n"
     ]
    }
   ],
   "source": [
    "model = Model(inputs=inputs, outputs=predictions)\n",
    "model.summary()"
   ]
  },
  {
   "cell_type": "code",
   "execution_count": 19,
   "metadata": {
    "colab": {},
    "colab_type": "code",
    "id": "LP2w1xoypoQW"
   },
   "outputs": [],
   "source": [
    "model.compile(optimizer='adam',\n",
    "              loss='categorical_crossentropy',\n",
    "              metrics=['accuracy'])"
   ]
  },
  {
   "cell_type": "markdown",
   "metadata": {
    "colab_type": "text",
    "id": "hbe-R5ilpoQZ"
   },
   "source": [
    "## Zuerst testen wir unser Modell, ob wir es überhaupt trainiert bekommen, indem wir auf einer kleinen Menge von Daten overfitten"
   ]
  },
  {
   "cell_type": "code",
   "execution_count": 20,
   "metadata": {
    "colab": {},
    "colab_type": "code",
    "id": "X_DsvSwtpoQZ"
   },
   "outputs": [],
   "source": [
    "from sklearn.model_selection import train_test_split\n",
    "X_train, X_test, y_train, y_test = train_test_split(X, y, test_size=0.9, random_state=42, stratify=y)"
   ]
  },
  {
   "cell_type": "code",
   "execution_count": 21,
   "metadata": {
    "colab": {
     "base_uri": "https://localhost:8080/",
     "height": 34
    },
    "colab_type": "code",
    "id": "k53co0k0poQb",
    "outputId": "9908e65b-0c91-4c47-fef3-9d5d2c5353f2"
   },
   "outputs": [
    {
     "data": {
      "text/plain": [
       "((37, 64, 64, 3), (37, 6))"
      ]
     },
     "execution_count": 21,
     "metadata": {},
     "output_type": "execute_result"
    }
   ],
   "source": [
    "X_train.shape, y_train.shape"
   ]
  },
  {
   "cell_type": "code",
   "execution_count": 22,
   "metadata": {
    "colab": {
     "base_uri": "https://localhost:8080/",
     "height": 1000
    },
    "colab_type": "code",
    "id": "-AHBs2IapoQe",
    "outputId": "0380dfa4-d2ec-4372-ff74-516c5726bdf4",
    "scrolled": false
   },
   "outputs": [
    {
     "name": "stdout",
     "output_type": "stream",
     "text": [
      "Epoch 1/100\n",
      "1/1 [==============================] - 0s 239ms/step - loss: 1.7922 - accuracy: 0.1600 - val_loss: 1.7529 - val_accuracy: 0.0000e+00\n",
      "Epoch 2/100\n",
      "1/1 [==============================] - 0s 75ms/step - loss: 1.7208 - accuracy: 0.2800 - val_loss: 1.6282 - val_accuracy: 0.1667\n",
      "Epoch 3/100\n",
      "1/1 [==============================] - 0s 72ms/step - loss: 1.8361 - accuracy: 0.3200 - val_loss: 1.8456 - val_accuracy: 0.0833\n",
      "Epoch 4/100\n",
      "1/1 [==============================] - 0s 73ms/step - loss: 1.6838 - accuracy: 0.3200 - val_loss: 1.8709 - val_accuracy: 0.0000e+00\n",
      "Epoch 5/100\n",
      "1/1 [==============================] - 0s 69ms/step - loss: 1.7248 - accuracy: 0.3200 - val_loss: 1.8695 - val_accuracy: 0.0000e+00\n",
      "Epoch 6/100\n",
      "1/1 [==============================] - 0s 66ms/step - loss: 1.7136 - accuracy: 0.2800 - val_loss: 1.8829 - val_accuracy: 0.0000e+00\n",
      "Epoch 7/100\n",
      "1/1 [==============================] - 0s 72ms/step - loss: 1.6608 - accuracy: 0.2800 - val_loss: 1.9490 - val_accuracy: 0.0000e+00\n",
      "Epoch 8/100\n",
      "1/1 [==============================] - 0s 72ms/step - loss: 1.5762 - accuracy: 0.3200 - val_loss: 1.7646 - val_accuracy: 0.2500\n",
      "Epoch 9/100\n",
      "1/1 [==============================] - 0s 77ms/step - loss: 1.4373 - accuracy: 0.5200 - val_loss: 2.0363 - val_accuracy: 0.1667\n",
      "Epoch 10/100\n",
      "1/1 [==============================] - 0s 75ms/step - loss: 1.2737 - accuracy: 0.5200 - val_loss: 4.6520 - val_accuracy: 0.0000e+00\n",
      "Epoch 11/100\n",
      "1/1 [==============================] - 0s 76ms/step - loss: 1.4998 - accuracy: 0.4800 - val_loss: 3.4565 - val_accuracy: 0.4167\n",
      "Epoch 12/100\n",
      "1/1 [==============================] - 0s 76ms/step - loss: 1.8944 - accuracy: 0.3200 - val_loss: 2.3312 - val_accuracy: 0.2500\n",
      "Epoch 13/100\n",
      "1/1 [==============================] - 0s 85ms/step - loss: 1.5114 - accuracy: 0.4400 - val_loss: 2.3045 - val_accuracy: 0.2500\n",
      "Epoch 14/100\n",
      "1/1 [==============================] - 0s 80ms/step - loss: 1.4740 - accuracy: 0.3600 - val_loss: 2.1812 - val_accuracy: 0.1667\n",
      "Epoch 15/100\n",
      "1/1 [==============================] - 0s 83ms/step - loss: 1.4766 - accuracy: 0.4800 - val_loss: 2.1137 - val_accuracy: 0.1667\n",
      "Epoch 16/100\n",
      "1/1 [==============================] - 0s 80ms/step - loss: 1.4637 - accuracy: 0.4400 - val_loss: 2.1265 - val_accuracy: 0.0833\n",
      "Epoch 17/100\n",
      "1/1 [==============================] - 0s 97ms/step - loss: 1.4157 - accuracy: 0.4800 - val_loss: 2.2206 - val_accuracy: 0.0833\n",
      "Epoch 18/100\n",
      "1/1 [==============================] - 0s 116ms/step - loss: 1.3330 - accuracy: 0.4000 - val_loss: 2.3685 - val_accuracy: 0.0833\n",
      "Epoch 19/100\n",
      "1/1 [==============================] - 0s 102ms/step - loss: 1.2242 - accuracy: 0.4000 - val_loss: 2.4038 - val_accuracy: 0.0833\n",
      "Epoch 20/100\n",
      "1/1 [==============================] - 0s 104ms/step - loss: 1.0671 - accuracy: 0.5600 - val_loss: 2.3946 - val_accuracy: 0.3333\n",
      "Epoch 21/100\n",
      "1/1 [==============================] - 0s 99ms/step - loss: 0.8763 - accuracy: 0.6400 - val_loss: 2.9659 - val_accuracy: 0.5000\n",
      "Epoch 22/100\n",
      "1/1 [==============================] - 0s 100ms/step - loss: 0.7554 - accuracy: 0.6800 - val_loss: 3.5928 - val_accuracy: 0.3333\n",
      "Epoch 23/100\n",
      "1/1 [==============================] - 0s 84ms/step - loss: 0.6728 - accuracy: 0.7200 - val_loss: 4.6117 - val_accuracy: 0.2500\n",
      "Epoch 24/100\n",
      "1/1 [==============================] - 0s 81ms/step - loss: 0.9416 - accuracy: 0.6800 - val_loss: 4.4622 - val_accuracy: 0.5000\n",
      "Epoch 25/100\n",
      "1/1 [==============================] - 0s 80ms/step - loss: 0.4639 - accuracy: 0.8000 - val_loss: 6.2701 - val_accuracy: 0.4167\n",
      "Epoch 26/100\n",
      "1/1 [==============================] - 0s 90ms/step - loss: 0.6906 - accuracy: 0.7600 - val_loss: 4.9451 - val_accuracy: 0.3333\n",
      "Epoch 27/100\n",
      "1/1 [==============================] - 0s 82ms/step - loss: 0.4105 - accuracy: 0.8800 - val_loss: 4.5168 - val_accuracy: 0.3333\n",
      "Epoch 28/100\n",
      "1/1 [==============================] - 0s 89ms/step - loss: 0.3540 - accuracy: 0.9600 - val_loss: 4.8837 - val_accuracy: 0.2500\n",
      "Epoch 29/100\n",
      "1/1 [==============================] - 0s 80ms/step - loss: 0.3625 - accuracy: 0.9200 - val_loss: 4.6891 - val_accuracy: 0.3333\n",
      "Epoch 30/100\n",
      "1/1 [==============================] - 0s 81ms/step - loss: 0.2628 - accuracy: 0.8800 - val_loss: 4.9236 - val_accuracy: 0.3333\n",
      "Epoch 31/100\n",
      "1/1 [==============================] - 0s 85ms/step - loss: 0.2483 - accuracy: 0.9600 - val_loss: 5.4553 - val_accuracy: 0.3333\n",
      "Epoch 32/100\n",
      "1/1 [==============================] - 0s 83ms/step - loss: 0.1583 - accuracy: 1.0000 - val_loss: 6.5327 - val_accuracy: 0.3333\n",
      "Epoch 33/100\n",
      "1/1 [==============================] - 0s 83ms/step - loss: 0.1506 - accuracy: 1.0000 - val_loss: 7.7729 - val_accuracy: 0.3333\n",
      "Epoch 34/100\n",
      "1/1 [==============================] - 0s 118ms/step - loss: 0.0877 - accuracy: 1.0000 - val_loss: 9.4312 - val_accuracy: 0.2500\n",
      "Epoch 35/100\n",
      "1/1 [==============================] - 0s 100ms/step - loss: 0.0756 - accuracy: 1.0000 - val_loss: 9.3480 - val_accuracy: 0.3333\n",
      "Epoch 36/100\n",
      "1/1 [==============================] - 0s 88ms/step - loss: 0.0440 - accuracy: 1.0000 - val_loss: 9.9411 - val_accuracy: 0.3333\n",
      "Epoch 37/100\n",
      "1/1 [==============================] - 0s 85ms/step - loss: 0.0777 - accuracy: 1.0000 - val_loss: 10.8789 - val_accuracy: 0.4167\n",
      "Epoch 38/100\n",
      "1/1 [==============================] - 0s 96ms/step - loss: 0.0276 - accuracy: 1.0000 - val_loss: 12.4251 - val_accuracy: 0.4167\n",
      "Epoch 39/100\n",
      "1/1 [==============================] - 0s 92ms/step - loss: 0.0125 - accuracy: 1.0000 - val_loss: 14.7607 - val_accuracy: 0.2500\n",
      "Epoch 40/100\n",
      "1/1 [==============================] - 0s 87ms/step - loss: 0.0052 - accuracy: 1.0000 - val_loss: 18.3418 - val_accuracy: 0.2500\n",
      "Epoch 41/100\n",
      "1/1 [==============================] - 0s 96ms/step - loss: 0.0056 - accuracy: 1.0000 - val_loss: 21.2962 - val_accuracy: 0.2500\n",
      "Epoch 42/100\n",
      "1/1 [==============================] - 0s 89ms/step - loss: 0.0086 - accuracy: 1.0000 - val_loss: 20.5894 - val_accuracy: 0.2500\n",
      "Epoch 43/100\n",
      "1/1 [==============================] - 0s 79ms/step - loss: 0.0026 - accuracy: 1.0000 - val_loss: 20.9964 - val_accuracy: 0.3333\n",
      "Epoch 44/100\n",
      "1/1 [==============================] - 0s 99ms/step - loss: 0.0019 - accuracy: 1.0000 - val_loss: 22.1441 - val_accuracy: 0.3333\n",
      "Epoch 45/100\n",
      "1/1 [==============================] - 0s 137ms/step - loss: 0.0011 - accuracy: 1.0000 - val_loss: 23.3658 - val_accuracy: 0.3333\n",
      "Epoch 46/100\n",
      "1/1 [==============================] - 0s 92ms/step - loss: 6.8742e-04 - accuracy: 1.0000 - val_loss: 25.1095 - val_accuracy: 0.4167\n",
      "Epoch 47/100\n",
      "1/1 [==============================] - 0s 98ms/step - loss: 0.0019 - accuracy: 1.0000 - val_loss: 26.8309 - val_accuracy: 0.4167\n",
      "Epoch 48/100\n",
      "1/1 [==============================] - 0s 98ms/step - loss: 0.0046 - accuracy: 1.0000 - val_loss: 27.6455 - val_accuracy: 0.4167\n",
      "Epoch 49/100\n",
      "1/1 [==============================] - 0s 100ms/step - loss: 7.1170e-04 - accuracy: 1.0000 - val_loss: 28.6439 - val_accuracy: 0.4167\n",
      "Epoch 50/100\n",
      "1/1 [==============================] - 0s 100ms/step - loss: 2.6958e-04 - accuracy: 1.0000 - val_loss: 29.7654 - val_accuracy: 0.4167\n",
      "Epoch 51/100\n",
      "1/1 [==============================] - 0s 97ms/step - loss: 1.3347e-04 - accuracy: 1.0000 - val_loss: 30.8967 - val_accuracy: 0.4167\n",
      "Epoch 52/100\n",
      "1/1 [==============================] - 0s 88ms/step - loss: 6.9451e-05 - accuracy: 1.0000 - val_loss: 32.2862 - val_accuracy: 0.4167\n",
      "Epoch 53/100\n",
      "1/1 [==============================] - 0s 81ms/step - loss: 4.1851e-05 - accuracy: 1.0000 - val_loss: 33.6483 - val_accuracy: 0.4167\n",
      "Epoch 54/100\n",
      "1/1 [==============================] - 0s 76ms/step - loss: 2.9909e-05 - accuracy: 1.0000 - val_loss: 34.9246 - val_accuracy: 0.4167\n",
      "Epoch 55/100\n",
      "1/1 [==============================] - 0s 79ms/step - loss: 2.5046e-05 - accuracy: 1.0000 - val_loss: 36.1076 - val_accuracy: 0.4167\n",
      "Epoch 56/100\n",
      "1/1 [==============================] - 0s 84ms/step - loss: 2.4698e-05 - accuracy: 1.0000 - val_loss: 37.2063 - val_accuracy: 0.4167\n",
      "Epoch 57/100\n",
      "1/1 [==============================] - 0s 85ms/step - loss: 2.9961e-05 - accuracy: 1.0000 - val_loss: 38.2371 - val_accuracy: 0.4167\n",
      "Epoch 58/100\n"
     ]
    },
    {
     "name": "stdout",
     "output_type": "stream",
     "text": [
      "1/1 [==============================] - 0s 91ms/step - loss: 4.4096e-05 - accuracy: 1.0000 - val_loss: 39.2204 - val_accuracy: 0.4167\n",
      "Epoch 59/100\n",
      "1/1 [==============================] - 0s 88ms/step - loss: 6.8132e-05 - accuracy: 1.0000 - val_loss: 40.2980 - val_accuracy: 0.4167\n",
      "Epoch 60/100\n",
      "1/1 [==============================] - 0s 100ms/step - loss: 9.5892e-05 - accuracy: 1.0000 - val_loss: 41.4603 - val_accuracy: 0.3333\n",
      "Epoch 61/100\n",
      "1/1 [==============================] - 0s 86ms/step - loss: 2.1011e-04 - accuracy: 1.0000 - val_loss: 42.1536 - val_accuracy: 0.3333\n",
      "Epoch 62/100\n",
      "1/1 [==============================] - 0s 81ms/step - loss: 2.5812e-04 - accuracy: 1.0000 - val_loss: 42.1132 - val_accuracy: 0.3333\n",
      "Epoch 63/100\n",
      "1/1 [==============================] - 0s 85ms/step - loss: 3.2687e-05 - accuracy: 1.0000 - val_loss: 42.1511 - val_accuracy: 0.4167\n",
      "Epoch 64/100\n",
      "1/1 [==============================] - 0s 86ms/step - loss: 1.0785e-05 - accuracy: 1.0000 - val_loss: 42.3344 - val_accuracy: 0.4167\n",
      "Epoch 65/100\n",
      "1/1 [==============================] - 0s 85ms/step - loss: 5.3690e-06 - accuracy: 1.0000 - val_loss: 42.5450 - val_accuracy: 0.4167\n",
      "Epoch 66/100\n",
      "1/1 [==============================] - 0s 88ms/step - loss: 3.1280e-06 - accuracy: 1.0000 - val_loss: 42.7423 - val_accuracy: 0.4167\n",
      "Epoch 67/100\n",
      "1/1 [==============================] - 0s 87ms/step - loss: 2.0122e-06 - accuracy: 1.0000 - val_loss: 42.9211 - val_accuracy: 0.4167\n",
      "Epoch 68/100\n",
      "1/1 [==============================] - 0s 80ms/step - loss: 1.4019e-06 - accuracy: 1.0000 - val_loss: 43.0808 - val_accuracy: 0.4167\n",
      "Epoch 69/100\n",
      "1/1 [==============================] - 0s 118ms/step - loss: 1.0443e-06 - accuracy: 1.0000 - val_loss: 43.2248 - val_accuracy: 0.4167\n",
      "Epoch 70/100\n",
      "1/1 [==============================] - 0s 84ms/step - loss: 8.0108e-07 - accuracy: 1.0000 - val_loss: 43.3552 - val_accuracy: 0.4167\n",
      "Epoch 71/100\n",
      "1/1 [==============================] - 0s 77ms/step - loss: 6.3896e-07 - accuracy: 1.0000 - val_loss: 43.4735 - val_accuracy: 0.4167\n",
      "Epoch 72/100\n",
      "1/1 [==============================] - 0s 82ms/step - loss: 5.1498e-07 - accuracy: 1.0000 - val_loss: 43.5805 - val_accuracy: 0.4167\n",
      "Epoch 73/100\n",
      "1/1 [==============================] - 0s 103ms/step - loss: 4.3392e-07 - accuracy: 1.0000 - val_loss: 43.6774 - val_accuracy: 0.4167\n",
      "Epoch 74/100\n",
      "1/1 [==============================] - 0s 87ms/step - loss: 3.7193e-07 - accuracy: 1.0000 - val_loss: 43.7650 - val_accuracy: 0.4167\n",
      "Epoch 75/100\n",
      "1/1 [==============================] - 0s 136ms/step - loss: 3.1948e-07 - accuracy: 1.0000 - val_loss: 43.8446 - val_accuracy: 0.4167\n",
      "Epoch 76/100\n",
      "1/1 [==============================] - 0s 90ms/step - loss: 2.8610e-07 - accuracy: 1.0000 - val_loss: 43.9167 - val_accuracy: 0.4167\n",
      "Epoch 77/100\n",
      "1/1 [==============================] - 0s 88ms/step - loss: 2.6226e-07 - accuracy: 1.0000 - val_loss: 43.9822 - val_accuracy: 0.4167\n",
      "Epoch 78/100\n",
      "1/1 [==============================] - 0s 87ms/step - loss: 2.2888e-07 - accuracy: 1.0000 - val_loss: 44.0415 - val_accuracy: 0.4167\n",
      "Epoch 79/100\n",
      "1/1 [==============================] - 0s 97ms/step - loss: 2.0504e-07 - accuracy: 1.0000 - val_loss: 44.0953 - val_accuracy: 0.4167\n",
      "Epoch 80/100\n",
      "1/1 [==============================] - 0s 88ms/step - loss: 1.9073e-07 - accuracy: 1.0000 - val_loss: 44.1440 - val_accuracy: 0.4167\n",
      "Epoch 81/100\n",
      "1/1 [==============================] - 0s 81ms/step - loss: 1.7643e-07 - accuracy: 1.0000 - val_loss: 44.1881 - val_accuracy: 0.4167\n",
      "Epoch 82/100\n",
      "1/1 [==============================] - 0s 83ms/step - loss: 1.6689e-07 - accuracy: 1.0000 - val_loss: 44.2281 - val_accuracy: 0.4167\n",
      "Epoch 83/100\n",
      "1/1 [==============================] - 0s 78ms/step - loss: 1.6212e-07 - accuracy: 1.0000 - val_loss: 44.2643 - val_accuracy: 0.4167\n",
      "Epoch 84/100\n",
      "1/1 [==============================] - 0s 78ms/step - loss: 1.5259e-07 - accuracy: 1.0000 - val_loss: 44.2971 - val_accuracy: 0.4167\n",
      "Epoch 85/100\n",
      "1/1 [==============================] - 0s 76ms/step - loss: 1.4782e-07 - accuracy: 1.0000 - val_loss: 44.3268 - val_accuracy: 0.4167\n",
      "Epoch 86/100\n",
      "1/1 [==============================] - 0s 74ms/step - loss: 1.4305e-07 - accuracy: 1.0000 - val_loss: 44.3537 - val_accuracy: 0.4167\n",
      "Epoch 87/100\n",
      "1/1 [==============================] - 0s 77ms/step - loss: 1.3828e-07 - accuracy: 1.0000 - val_loss: 44.3782 - val_accuracy: 0.4167\n",
      "Epoch 88/100\n",
      "1/1 [==============================] - 0s 79ms/step - loss: 1.2875e-07 - accuracy: 1.0000 - val_loss: 44.4003 - val_accuracy: 0.4167\n",
      "Epoch 89/100\n",
      "1/1 [==============================] - 0s 79ms/step - loss: 1.2398e-07 - accuracy: 1.0000 - val_loss: 44.4204 - val_accuracy: 0.4167\n",
      "Epoch 90/100\n",
      "1/1 [==============================] - 0s 82ms/step - loss: 1.1921e-07 - accuracy: 1.0000 - val_loss: 44.4386 - val_accuracy: 0.4167\n",
      "Epoch 91/100\n",
      "1/1 [==============================] - 0s 83ms/step - loss: 1.1921e-07 - accuracy: 1.0000 - val_loss: 44.4551 - val_accuracy: 0.4167\n",
      "Epoch 92/100\n",
      "1/1 [==============================] - 0s 80ms/step - loss: 1.1444e-07 - accuracy: 1.0000 - val_loss: 44.4700 - val_accuracy: 0.4167\n",
      "Epoch 93/100\n",
      "1/1 [==============================] - 0s 73ms/step - loss: 1.1444e-07 - accuracy: 1.0000 - val_loss: 44.4837 - val_accuracy: 0.4167\n",
      "Epoch 94/100\n",
      "1/1 [==============================] - 0s 74ms/step - loss: 1.0967e-07 - accuracy: 1.0000 - val_loss: 44.4960 - val_accuracy: 0.4167\n",
      "Epoch 95/100\n",
      "1/1 [==============================] - 0s 76ms/step - loss: 1.0490e-07 - accuracy: 1.0000 - val_loss: 44.5073 - val_accuracy: 0.4167\n",
      "Epoch 96/100\n",
      "1/1 [==============================] - 0s 75ms/step - loss: 1.0014e-07 - accuracy: 1.0000 - val_loss: 44.5175 - val_accuracy: 0.4167\n",
      "Epoch 97/100\n",
      "1/1 [==============================] - 0s 75ms/step - loss: 1.0014e-07 - accuracy: 1.0000 - val_loss: 44.5267 - val_accuracy: 0.4167\n",
      "Epoch 98/100\n",
      "1/1 [==============================] - 0s 78ms/step - loss: 1.0014e-07 - accuracy: 1.0000 - val_loss: 44.5352 - val_accuracy: 0.4167\n",
      "Epoch 99/100\n",
      "1/1 [==============================] - 0s 75ms/step - loss: 9.5367e-08 - accuracy: 1.0000 - val_loss: 44.5428 - val_accuracy: 0.4167\n",
      "Epoch 100/100\n",
      "1/1 [==============================] - 0s 75ms/step - loss: 9.5367e-08 - accuracy: 1.0000 - val_loss: 44.5497 - val_accuracy: 0.4167\n",
      "Wall time: 1min 4s\n"
     ]
    },
    {
     "data": {
      "text/plain": [
       "<tensorflow.python.keras.callbacks.History at 0x20a08186710>"
      ]
     },
     "execution_count": 22,
     "metadata": {},
     "output_type": "execute_result"
    }
   ],
   "source": [
    "%time model.fit(X_train, y_train, epochs=100, validation_split=0.3)"
   ]
  },
  {
   "cell_type": "markdown",
   "metadata": {
    "colab_type": "text",
    "id": "tHX352EVpoQh"
   },
   "source": [
    "## Das sieht gut aus, nun versuchen wir es mit dem kompletten Datensatz ohne Overfitting und mit Dropout"
   ]
  },
  {
   "cell_type": "code",
   "execution_count": 23,
   "metadata": {
    "colab": {},
    "colab_type": "code",
    "id": "HsqrLu_ppoQi"
   },
   "outputs": [],
   "source": [
    "from keras.models import Model\n",
    "from keras.layers import Dense, Dropout, Activation, Flatten, Input\n",
    "from keras.layers import Convolution2D, MaxPooling2D\n",
    "\n",
    "drop_out = 0.6\n",
    "\n",
    "# input tensor for a 3-channel 64x64 image\n",
    "inputs = Input(shape=(64, 64, 3))\n",
    "\n",
    "# one block of convolutional layers\n",
    "x = Convolution2D(64, 3, activation='relu', padding='same')(inputs)\n",
    "x = Convolution2D(64, 3, activation='relu', padding='same')(x)\n",
    "x = Convolution2D(64, 3, activation='relu', padding='same')(x)\n",
    "x = MaxPooling2D(pool_size=(2, 2))(x)\n",
    "x = Dropout(drop_out)(x)\n",
    "\n",
    "# one more block\n",
    "x = Convolution2D(128, 3, activation='relu', padding='same')(x)\n",
    "x = Convolution2D(128, 3, activation='relu', padding='same')(x)\n",
    "x = MaxPooling2D(pool_size=(2, 2))(x)\n",
    "x = Dropout(drop_out)(x)\n",
    "\n",
    "# one more block\n",
    "x = Convolution2D(256, 3, activation='relu', padding='same')(x)\n",
    "x = MaxPooling2D(pool_size=(2, 2))(x)\n",
    "x = Dropout(drop_out)(x)\n",
    "\n",
    "x = Flatten()(x)\n",
    "x = Dense(256, activation='relu')(x)\n",
    "x = Dropout(drop_out)(x)\n",
    "\n",
    "# softmax activation, 6 categories\n",
    "predictions = Dense(6, activation='softmax')(x)"
   ]
  },
  {
   "cell_type": "code",
   "execution_count": 24,
   "metadata": {
    "colab": {
     "base_uri": "https://localhost:8080/",
     "height": 731
    },
    "colab_type": "code",
    "id": "PRousp1QpoQk",
    "outputId": "3deaa709-073f-4445-9bff-5a18cb1bf67e"
   },
   "outputs": [
    {
     "name": "stdout",
     "output_type": "stream",
     "text": [
      "Model: \"functional_3\"\n",
      "_________________________________________________________________\n",
      "Layer (type)                 Output Shape              Param #   \n",
      "=================================================================\n",
      "input_2 (InputLayer)         [(None, 64, 64, 3)]       0         \n",
      "_________________________________________________________________\n",
      "conv2d_6 (Conv2D)            (None, 64, 64, 64)        1792      \n",
      "_________________________________________________________________\n",
      "conv2d_7 (Conv2D)            (None, 64, 64, 64)        36928     \n",
      "_________________________________________________________________\n",
      "conv2d_8 (Conv2D)            (None, 64, 64, 64)        36928     \n",
      "_________________________________________________________________\n",
      "max_pooling2d_3 (MaxPooling2 (None, 32, 32, 64)        0         \n",
      "_________________________________________________________________\n",
      "dropout (Dropout)            (None, 32, 32, 64)        0         \n",
      "_________________________________________________________________\n",
      "conv2d_9 (Conv2D)            (None, 32, 32, 128)       73856     \n",
      "_________________________________________________________________\n",
      "conv2d_10 (Conv2D)           (None, 32, 32, 128)       147584    \n",
      "_________________________________________________________________\n",
      "max_pooling2d_4 (MaxPooling2 (None, 16, 16, 128)       0         \n",
      "_________________________________________________________________\n",
      "dropout_1 (Dropout)          (None, 16, 16, 128)       0         \n",
      "_________________________________________________________________\n",
      "conv2d_11 (Conv2D)           (None, 16, 16, 256)       295168    \n",
      "_________________________________________________________________\n",
      "max_pooling2d_5 (MaxPooling2 (None, 8, 8, 256)         0         \n",
      "_________________________________________________________________\n",
      "dropout_2 (Dropout)          (None, 8, 8, 256)         0         \n",
      "_________________________________________________________________\n",
      "flatten_1 (Flatten)          (None, 16384)             0         \n",
      "_________________________________________________________________\n",
      "dense_2 (Dense)              (None, 256)               4194560   \n",
      "_________________________________________________________________\n",
      "dropout_3 (Dropout)          (None, 256)               0         \n",
      "_________________________________________________________________\n",
      "dense_3 (Dense)              (None, 6)                 1542      \n",
      "=================================================================\n",
      "Total params: 4,788,358\n",
      "Trainable params: 4,788,358\n",
      "Non-trainable params: 0\n",
      "_________________________________________________________________\n"
     ]
    }
   ],
   "source": [
    "model = Model(inputs=inputs, outputs=predictions)\n",
    "model.summary()"
   ]
  },
  {
   "cell_type": "code",
   "execution_count": 25,
   "metadata": {
    "colab": {},
    "colab_type": "code",
    "id": "KA0BHt8ZpoQm"
   },
   "outputs": [],
   "source": [
    "model.compile(optimizer='adam',\n",
    "              loss='categorical_crossentropy',\n",
    "              metrics=['accuracy'])"
   ]
  },
  {
   "cell_type": "code",
   "execution_count": 26,
   "metadata": {
    "colab": {},
    "colab_type": "code",
    "id": "M4zA_j07poQo"
   },
   "outputs": [],
   "source": [
    "X_train, X_test, y_train, y_test = train_test_split(X, y, test_size=0.2, random_state=42, stratify=y)"
   ]
  },
  {
   "cell_type": "code",
   "execution_count": 27,
   "metadata": {
    "colab": {},
    "colab_type": "code",
    "id": "POU41fDPpoQq"
   },
   "outputs": [],
   "source": [
    "# wenn die Ergebnisse lange Zeit schlecht bleiben, brechen wir lieber ab\n",
    "early_stopping_callback = keras.callbacks.EarlyStopping(monitor='val_loss', patience=25, verbose=1)"
   ]
  },
  {
   "cell_type": "code",
   "execution_count": null,
   "metadata": {
    "colab": {
     "base_uri": "https://localhost:8080/",
     "height": 1000
    },
    "colab_type": "code",
    "id": "EfN07IOLpoQt",
    "outputId": "e718bc79-15cd-496c-8bcf-8c168c1d7212"
   },
   "outputs": [
    {
     "name": "stdout",
     "output_type": "stream",
     "text": [
      "Epoch 1/500\n",
      "5/5 [==============================] - 4s 844ms/step - loss: 1.8197 - accuracy: 0.1818 - val_loss: 1.7874 - val_accuracy: 0.1148\n",
      "Epoch 2/500\n",
      "5/5 [==============================] - 4s 827ms/step - loss: 1.7210 - accuracy: 0.2314 - val_loss: 1.7891 - val_accuracy: 0.1148\n",
      "Epoch 3/500\n",
      "5/5 [==============================] - 4s 877ms/step - loss: 1.7078 - accuracy: 0.2314 - val_loss: 1.7838 - val_accuracy: 0.1639\n",
      "Epoch 4/500\n",
      "5/5 [==============================] - 4s 862ms/step - loss: 1.6723 - accuracy: 0.2934 - val_loss: 1.7722 - val_accuracy: 0.2951\n",
      "Epoch 5/500\n",
      "5/5 [==============================] - 4s 897ms/step - loss: 1.6954 - accuracy: 0.2190 - val_loss: 1.7873 - val_accuracy: 0.1803\n",
      "Epoch 6/500\n",
      "5/5 [==============================] - 4s 801ms/step - loss: 1.7156 - accuracy: 0.2769 - val_loss: 1.7829 - val_accuracy: 0.1967\n",
      "Epoch 7/500\n",
      "3/5 [=================>............] - ETA: 1s - loss: 1.6838 - accuracy: 0.2533"
     ]
    }
   ],
   "source": [
    "# auf Colab haben wir GPU support angeschaltet, d.h. auch dieses Training kann sehr schnell gehen\n",
    "# auf einem lokalen Recher ohne GPU kann sowas aber locker 2 Stunden oder mehr laufen\n",
    "# BATCH_SIZE = 500\n",
    "BATCH_SIZE = 50\n",
    "%time model.fit(X_train, y_train, epochs=500, batch_size=BATCH_SIZE, validation_split=0.2, callbacks=[early_stopping_callback])"
   ]
  },
  {
   "cell_type": "markdown",
   "metadata": {
    "colab_type": "text",
    "id": "o7UDsN7npoQw"
   },
   "source": [
    "# Bewertung"
   ]
  },
  {
   "cell_type": "code",
   "execution_count": null,
   "metadata": {
    "colab": {
     "base_uri": "https://localhost:8080/",
     "height": 51
    },
    "colab_type": "code",
    "id": "I7KhwcBOpoQw",
    "outputId": "ea955684-1b7b-4409-9132-90d9e92fcaf5"
   },
   "outputs": [],
   "source": [
    "train_loss, train_accuracy = model.evaluate(X_train, y_train, batch_size=BATCH_SIZE)\n",
    "train_loss, train_accuracy"
   ]
  },
  {
   "cell_type": "code",
   "execution_count": null,
   "metadata": {
    "colab": {
     "base_uri": "https://localhost:8080/",
     "height": 51
    },
    "colab_type": "code",
    "id": "O5DtJ2jcpoQy",
    "outputId": "e296028c-7dad-45b5-ee40-3730deba1019"
   },
   "outputs": [],
   "source": [
    "test_loss, test_accuracy = model.evaluate(X_test, y_test, batch_size=BATCH_SIZE)\n",
    "test_loss, test_accuracy"
   ]
  },
  {
   "cell_type": "markdown",
   "metadata": {
    "colab_type": "text",
    "id": "FdOpaYeJpoQ7"
   },
   "source": [
    "# Ausprobieren auf ein paar Test-Daten"
   ]
  },
  {
   "cell_type": "code",
   "execution_count": null,
   "metadata": {
    "colab": {
     "base_uri": "https://localhost:8080/",
     "height": 34
    },
    "colab_type": "code",
    "id": "Ocg1wPvOpoQ8",
    "outputId": "d33888e8-0954-4f6e-ddd1-8a9d10eb0660"
   },
   "outputs": [],
   "source": [
    "import random\n",
    "\n",
    "# Pick 10 random images for test data set\n",
    "random.seed(3) # to make this deterministic\n",
    "sample_indexes = random.sample(range(len(X_test)), 10)\n",
    "sample_images = [X_test[i] for i in sample_indexes]\n",
    "sample_labels = [y_test[i] for i in sample_indexes]\n",
    "\n",
    "ground_truth = np.argmax(sample_labels, axis=1)\n",
    "\n",
    "X_sample = np.array(sample_images)\n",
    "prediction = model.predict(X_sample)\n",
    "predicted_categories = np.argmax(prediction, axis=1)\n",
    "predicted_categories"
   ]
  },
  {
   "cell_type": "code",
   "execution_count": null,
   "metadata": {
    "colab": {},
    "colab_type": "code",
    "id": "pWp-26pBpoQ9"
   },
   "outputs": [],
   "source": [
    "# Display the predictions and the ground truth visually.\n",
    "def display_prediction (images, true_labels, predicted_labels):\n",
    "    fig = plt.figure(figsize=(10, 10))\n",
    "    for i in range(len(true_labels)):\n",
    "        truth = true_labels[i]\n",
    "        prediction = predicted_labels[i]\n",
    "        plt.subplot(5, 2,1+i)\n",
    "        plt.axis('off')\n",
    "        color='green' if truth == prediction else 'red'\n",
    "        plt.text(80, 10, \"Truth:        {0}\\nPrediction: {1}\".format(truth, prediction), \n",
    "                 fontsize=12, color=color)\n",
    "        plt.imshow(images[i])"
   ]
  },
  {
   "cell_type": "code",
   "execution_count": null,
   "metadata": {
    "colab": {
     "base_uri": "https://localhost:8080/",
     "height": 584
    },
    "colab_type": "code",
    "id": "nv5nUf4IpoQ_",
    "outputId": "8e76a28a-43e6-41ac-99b6-34e64f22cf20"
   },
   "outputs": [],
   "source": [
    "display_prediction(sample_images, ground_truth, predicted_categories)"
   ]
  },
  {
   "cell_type": "code",
   "execution_count": null,
   "metadata": {},
   "outputs": [],
   "source": []
  }
 ],
 "metadata": {
  "accelerator": "GPU",
  "colab": {
   "include_colab_link": true,
   "name": "kap7-cnn.ipynb",
   "provenance": []
  },
  "kernelspec": {
   "display_name": "Python 3 (ipykernel)",
   "language": "python",
   "name": "python3"
  },
  "language_info": {
   "codemirror_mode": {
    "name": "ipython",
    "version": 3
   },
   "file_extension": ".py",
   "mimetype": "text/x-python",
   "name": "python",
   "nbconvert_exporter": "python",
   "pygments_lexer": "ipython3",
   "version": "3.7.1"
  }
 },
 "nbformat": 4,
 "nbformat_minor": 4
}
